{
  "nbformat": 4,
  "nbformat_minor": 0,
  "metadata": {
    "colab": {
      "provenance": [],
      "authorship_tag": "ABX9TyMKvd2pN5NHaSLkcQpajDRp",
      "include_colab_link": true
    },
    "kernelspec": {
      "name": "python3",
      "display_name": "Python 3"
    },
    "language_info": {
      "name": "python"
    }
  },
  "cells": [
    {
      "cell_type": "markdown",
      "metadata": {
        "id": "view-in-github",
        "colab_type": "text"
      },
      "source": [
        "<a href=\"https://colab.research.google.com/github/baanisingh/Images-to-grayscale/blob/main/Convert_Images_In_grayscale.ipynb\" target=\"_parent\"><img src=\"https://colab.research.google.com/assets/colab-badge.svg\" alt=\"Open In Colab\"/></a>"
      ]
    },
    {
      "cell_type": "code",
      "execution_count": null,
      "metadata": {
        "id": "3Ef4LOkL5aiP"
      },
      "outputs": [],
      "source": [
        "import cv2\n",
        "\n",
        "\n",
        "image = cv2.imread('C:\\\\Documents\\\\full_path\\\\tomatoes.jpg')\n",
        "cv2.imshow('Original', image)\n",
        "cv2.waitKey(0)\n",
        "\n",
        "\n",
        "gray_image = cv2.cvtColor(image, cv2.COLOR_BGR2GRAY)\n",
        "\n",
        "cv2.imshow('Grayscale', gray_image)\n",
        "cv2.waitKey(0)\n",
        "\n",
        "\n",
        "cv2.destroyAllWindows()"
      ]
    }
  ]
}